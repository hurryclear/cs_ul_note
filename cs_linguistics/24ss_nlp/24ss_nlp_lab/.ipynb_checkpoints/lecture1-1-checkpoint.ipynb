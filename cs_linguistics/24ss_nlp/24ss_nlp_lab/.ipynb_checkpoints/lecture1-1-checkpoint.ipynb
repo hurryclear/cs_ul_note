{
 "cells": [
  {
   "cell_type": "code",
   "execution_count": null,
   "id": "48e76bef-5cab-415c-bc5e-a1e3f2a09c7a",
   "metadata": {},
   "outputs": [],
   "source": [
    "import nltk"
   ]
  },
  {
   "cell_type": "code",
   "execution_count": null,
   "id": "f9d0f75a-cd1f-4ee0-b63a-2d7c61e0e4fb",
   "metadata": {},
   "outputs": [],
   "source": [
    "nltk.download()"
   ]
  },
  {
   "cell_type": "code",
   "execution_count": null,
   "id": "a08454ab-a15f-413f-a188-782db35640c8",
   "metadata": {},
   "outputs": [],
   "source": [
    "nltk.corpus.gutenberg.fileids()"
   ]
  },
  {
   "cell_type": "code",
   "execution_count": null,
   "id": "2e59e6c9-a049-43f0-bacf-64a183cff861",
   "metadata": {},
   "outputs": [],
   "source": [
    "text = nltk.corpus.gutenberg.raw('carroll-alice.txt')\n",
    "text[:2000]"
   ]
  },
  {
   "cell_type": "code",
   "execution_count": null,
   "id": "fbbfbcf1-18b9-4446-be43-5fbf59fcb6da",
   "metadata": {},
   "outputs": [],
   "source": [
    "print(\"Bigrams:\", list(nltk.bigrams([\"Where\", \"is\", \"my\", \"money\", \"man\", \"?\"])))"
   ]
  },
  {
   "cell_type": "code",
   "execution_count": null,
   "id": "0b403c4f-06e8-41e1-92ef-72f7cb3b6dbf",
   "metadata": {},
   "outputs": [],
   "source": [
    "list(nltk.ngrams([\"Where\", \"is\", \"my\", \"money\", \"man\", \"?\"], n=5))"
   ]
  },
  {
   "cell_type": "code",
   "execution_count": null,
   "id": "ccfd4e0a-102c-4f02-be73-19e6536f477d",
   "metadata": {},
   "outputs": [],
   "source": []
  },
  {
   "cell_type": "code",
   "execution_count": null,
   "id": "341dc8ee-a214-4cf9-b49c-8704c943fc7d",
   "metadata": {},
   "outputs": [],
   "source": [
    "example = \"This happened long before she met the Queen of Hearts. The \"\\\n",
    "\"rabbit-hole went straight on like a tunnel for some way, \"\\\n",
    "\"and then dipped suddenly down, so suddenly that Alice had not a moment \"\\\n",
    "\" to think about stopping herself before she found herself falling down \"\\\n",
    "\" a very deep well. Alice's heart skipped a beat.\"\n",
    "        \n",
    "print(\"Text: \\n\", example.split(\" \"))\n",
    "print(\"\\n\")\n",
    "print(\"Words: \\n\", nltk.word_tokenize(example))\n",
    "print(\"\\n\")\n",
    "print(\"Sentences: \\n\", nltk.sent_tokenize(example))"
   ]
  },
  {
   "cell_type": "code",
   "execution_count": null,
   "id": "4139ee9c-fa45-467b-a879-ff0c03cdff74",
   "metadata": {},
   "outputs": [],
   "source": []
  }
 ],
 "metadata": {
  "kernelspec": {
   "display_name": "Python 3 (ipykernel)",
   "language": "python",
   "name": "python3"
  },
  "language_info": {
   "codemirror_mode": {
    "name": "ipython",
    "version": 3
   },
   "file_extension": ".py",
   "mimetype": "text/x-python",
   "name": "python",
   "nbconvert_exporter": "python",
   "pygments_lexer": "ipython3",
   "version": "3.10.15"
  }
 },
 "nbformat": 4,
 "nbformat_minor": 5
}
