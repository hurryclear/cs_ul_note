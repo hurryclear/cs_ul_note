{
 "cells": [
  {
   "cell_type": "code",
   "execution_count": 1,
   "id": "48e76bef-5cab-415c-bc5e-a1e3f2a09c7a",
   "metadata": {},
   "outputs": [],
   "source": [
    "import nltk"
   ]
  },
  {
   "cell_type": "code",
   "execution_count": 2,
   "id": "f9d0f75a-cd1f-4ee0-b63a-2d7c61e0e4fb",
   "metadata": {},
   "outputs": [
    {
     "name": "stdout",
     "output_type": "stream",
     "text": [
      "showing info https://raw.githubusercontent.com/nltk/nltk_data/gh-pages/index.xml\n"
     ]
    },
    {
     "name": "stderr",
     "output_type": "stream",
     "text": [
      "2024-10-03 20:22:33.083 python[55557:2267673] +[IMKClient subclass]: chose IMKClient_Legacy\n",
      "2024-10-03 20:22:33.083 python[55557:2267673] +[IMKInputSession subclass]: chose IMKInputSession_Legacy\n"
     ]
    },
    {
     "data": {
      "text/plain": [
       "True"
      ]
     },
     "execution_count": 2,
     "metadata": {},
     "output_type": "execute_result"
    }
   ],
   "source": [
    "nltk.download()"
   ]
  },
  {
   "cell_type": "markdown",
   "id": "f8f2cb45-23f3-4cb9-aa58-16936063c849",
   "metadata": {},
   "source": [
    "It will returns all the available field's of the book corpus which we've downloaded."
   ]
  },
  {
   "cell_type": "code",
   "execution_count": 6,
   "id": "a08454ab-a15f-413f-a188-782db35640c8",
   "metadata": {},
   "outputs": [
    {
     "data": {
      "text/plain": [
       "['austen-emma.txt',\n",
       " 'austen-persuasion.txt',\n",
       " 'austen-sense.txt',\n",
       " 'bible-kjv.txt',\n",
       " 'blake-poems.txt',\n",
       " 'bryant-stories.txt',\n",
       " 'burgess-busterbrown.txt',\n",
       " 'carroll-alice.txt',\n",
       " 'chesterton-ball.txt',\n",
       " 'chesterton-brown.txt',\n",
       " 'chesterton-thursday.txt',\n",
       " 'edgeworth-parents.txt',\n",
       " 'melville-moby_dick.txt',\n",
       " 'milton-paradise.txt',\n",
       " 'shakespeare-caesar.txt',\n",
       " 'shakespeare-hamlet.txt',\n",
       " 'shakespeare-macbeth.txt',\n",
       " 'whitman-leaves.txt']"
      ]
     },
     "execution_count": 6,
     "metadata": {},
     "output_type": "execute_result"
    }
   ],
   "source": [
    "nltk.corpus.gutenberg.fileids()"
   ]
  },
  {
   "cell_type": "code",
   "execution_count": 4,
   "id": "2e59e6c9-a049-43f0-bacf-64a183cff861",
   "metadata": {},
   "outputs": [
    {
     "data": {
      "text/plain": [
       "\"[Alice's Adventures in Wonderland by Lewis Carroll 1865]\\n\\nCHAPTER I. Down the Rabbit-Hole\\n\\nAlice was beginning to get very tired of sitting by her sister on the\\nbank, and of having nothing to do: once or twice she had peeped into the\\nbook her sister was reading, but it had no pictures or conversations in\\nit, 'and what is the use of a book,' thought Alice 'without pictures or\\nconversation?'\\n\\nSo she was considering in her own mind (as well as she could, for the\\nhot day made her feel very sleepy and stupid), whether the pleasure\\nof making a daisy-chain would be worth the trouble of getting up and\\npicking the daisies, when suddenly a White Rabbit with pink eyes ran\\nclose by her.\\n\\nThere was nothing so VERY remarkable in that; nor did Alice think it so\\nVERY much out of the way to hear the Rabbit say to itself, 'Oh dear!\\nOh dear! I shall be late!' (when she thought it over afterwards, it\\noccurred to her that she ought to have wondered at this, but at the time\\nit all seemed quite natural); but when the Rabbit actually TOOK A WATCH\\nOUT OF ITS WAISTCOAT-POCKET, and looked at it, and then hurried on,\\nAlice started to her feet, for it flashed across her mind that she had\\nnever before seen a rabbit with either a waistcoat-pocket, or a watch\\nto take out of it, and burning with curiosity, she ran across the field\\nafter it, and fortunately was just in time to see it pop down a large\\nrabbit-hole under the hedge.\\n\\nIn another moment down went Alice after it, never once considering how\\nin the world she was to get out again.\\n\\nThe rabbit-hole went straight on like a tunnel for some way, and then\\ndipped suddenly down, so suddenly that Alice had not a moment to think\\nabout stopping herself before she found herself falling down a very deep\\nwell.\\n\\nEither the well was very deep, or she fell very slowly, for she had\\nplenty of time as she went down to look about her and to wonder what was\\ngoing to happen next. First, she tried to look down and make out what\\nshe was coming to, but it was too dar\""
      ]
     },
     "execution_count": 4,
     "metadata": {},
     "output_type": "execute_result"
    }
   ],
   "source": [
    "text = nltk.corpus.gutenberg.raw('carroll-alice.txt')\n",
    "text[:2000]"
   ]
  },
  {
   "cell_type": "markdown",
   "id": "121d0d4a-1644-4e9a-9e0c-cceae5954436",
   "metadata": {},
   "source": [
    "# Text manipulation"
   ]
  },
  {
   "cell_type": "code",
   "execution_count": 5,
   "id": "fbbfbcf1-18b9-4446-be43-5fbf59fcb6da",
   "metadata": {},
   "outputs": [
    {
     "name": "stdout",
     "output_type": "stream",
     "text": [
      "Bigrams: [('Where', 'is'), ('is', 'my'), ('my', 'money'), ('money', 'man'), ('man', '?')]\n"
     ]
    }
   ],
   "source": [
    "print(\"Bigrams:\", list(nltk.bigrams([\"Where\", \"is\", \"my\", \"money\", \"man\", \"?\"])))"
   ]
  },
  {
   "cell_type": "code",
   "execution_count": null,
   "id": "0b403c4f-06e8-41e1-92ef-72f7cb3b6dbf",
   "metadata": {},
   "outputs": [],
   "source": [
    "list(nltk.ngrams([\"Where\", \"is\", \"my\", \"money\", \"man\", \"?\"], n=5))"
   ]
  },
  {
   "cell_type": "code",
   "execution_count": null,
   "id": "ccfd4e0a-102c-4f02-be73-19e6536f477d",
   "metadata": {},
   "outputs": [],
   "source": []
  },
  {
   "cell_type": "code",
   "execution_count": null,
   "id": "341dc8ee-a214-4cf9-b49c-8704c943fc7d",
   "metadata": {},
   "outputs": [],
   "source": [
    "example = \"This happened long before she met the Queen of Hearts. The \"\\\n",
    "\"rabbit-hole went straight on like a tunnel for some way, \"\\\n",
    "\"and then dipped suddenly down, so suddenly that Alice had not a moment \"\\\n",
    "\" to think about stopping herself before she found herself falling down \"\\\n",
    "\" a very deep well. Alice's heart skipped a beat.\"\n",
    "        \n",
    "print(\"Text: \\n\", example.split(\" \"))\n",
    "print(\"\\n\")\n",
    "print(\"Words: \\n\", nltk.word_tokenize(example))\n",
    "print(\"\\n\")\n",
    "print(\"Sentences: \\n\", nltk.sent_tokenize(example))"
   ]
  },
  {
   "cell_type": "code",
   "execution_count": null,
   "id": "7f8a8d22-8bd4-4fcf-abff-3627630ef84b",
   "metadata": {},
   "outputs": [],
   "source": []
  }
 ],
 "metadata": {
  "kernelspec": {
   "display_name": "Python 3 (ipykernel)",
   "language": "python",
   "name": "python3"
  },
  "language_info": {
   "codemirror_mode": {
    "name": "ipython",
    "version": 3
   },
   "file_extension": ".py",
   "mimetype": "text/x-python",
   "name": "python",
   "nbconvert_exporter": "python",
   "pygments_lexer": "ipython3",
   "version": "3.10.15"
  }
 },
 "nbformat": 4,
 "nbformat_minor": 5
}
